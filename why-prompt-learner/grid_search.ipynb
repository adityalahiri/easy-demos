{
 "cells": [
  {
   "cell_type": "code",
   "execution_count": null,
   "id": "56f0994b-9841-4dbb-bee5-e0c28ab4d9e2",
   "metadata": {},
   "outputs": [],
   "source": [
    "pip install prompt-learner --upgrade"
   ]
  },
  {
   "cell_type": "code",
   "execution_count": null,
   "id": "30c2375a-6858-4121-99ed-43f8cf7ab77c",
   "metadata": {},
   "outputs": [],
   "source": [
    "from prompt_learner.tasks.classification import ClassificationTask\n",
    "from prompt_learner.examples.example import Example\n",
    "from prompt_learner.selectors.random_sampler import RandomSampler\n",
    "from prompt_learner.selectors.diverse_sampler import DiverseSampler\n",
    "from prompt_learner.selectors.stratified_sampler import StratifiedSampler\n",
    "from prompt_learner.prompts.prompt import Prompt\n",
    "from prompt_learner.templates.markdown import MarkdownTemplate\n",
    "from prompt_learner.templates.xml import XmlTemplate\n",
    "from prompt_learner.adapters.ollama_local import OllamaLocal\n",
    "from prompt_learner.adapters.anthropic import Anthropic\n",
    "from prompt_learner.adapters.llama import Llama\n",
    "from prompt_learner.adapters.openai import OpenAI\n",
    "from prompt_learner.evals.metrics.accuracy import Accuracy\n",
    "from prompt_learner.optimizers.grid_search import GridSearch\n",
    "import pandas as pd"
   ]
  },
  {
   "cell_type": "code",
   "execution_count": null,
   "id": "befc522f-6f8d-40dd-ac6b-dcb54eedb742",
   "metadata": {},
   "outputs": [],
   "source": [
    "# Task description and allowed labels\n",
    "TASK_DESCRIPTION = \"You have to classify intent for customer messages sent to chatbot.\"\n",
    "ALLOWED_LABELS = ['INFO_ADD_REMOVE_VEHICLE', 'INFO_LOGIN_ERROR',\n",
    "       'INFO_ADD_REMOVE_INSURED', 'INFO_ERS', 'INFO_CAREERS',\n",
    "       'INFO_DIFFERENT_AMTS', 'INFO_SPEAK_TO_REP', 'INFO_CANCEL_INS_POLICY',\n",
    "       'INFO_UPDATE_LIENHOLDER', 'INFO_DELETE_DUPE_PYMT',\n",
    "       'INFO_CANT_SEE_FARM_RANCH_POLICY', 'INFO_AUTO_INS_CANADA',\n",
    "       'INFO_DEC_PAGE_NEEDED', 'INFO_LIFE_BENEFICIARY_CHANGE',\n",
    "       'INFO_MAKE_PYMT']"
   ]
  },
  {
   "cell_type": "code",
   "execution_count": null,
   "id": "881a9b03-1bf6-49cd-b401-63b26b5c7fba",
   "metadata": {},
   "outputs": [],
   "source": [
    "classification_task = ClassificationTask(description=TASK_DESCRIPTION,\n",
    "                                         allowed_labels=ALLOWED_LABELS)\n",
    "\n",
    "# Template for the task\n",
    "template = MarkdownTemplate(task=classification_task)\n"
   ]
  },
  {
   "cell_type": "code",
   "execution_count": null,
   "id": "3983d406-a8a9-43a2-9b73-1908024627e3",
   "metadata": {},
   "outputs": [],
   "source": [
    "# Load training data\n",
    "with open(\"train.csv\") as f:\n",
    "    for line in f:\n",
    "        text, label = line.split(\",\")\n",
    "        classification_task.add_example(Example(text=text.strip(), label=label.strip()))\n",
    "#Add test examples\n",
    "with open(\"test.csv\") as f:\n",
    "    for line in f:\n",
    "        text, label = line.split(\",\")\n",
    "        classification_task.add_example(Example(text=text.strip(),\n",
    "                                                label=label.strip()),\n",
    "                                                test=True)"
   ]
  },
  {
   "cell_type": "code",
   "execution_count": null,
   "id": "1874edbf",
   "metadata": {},
   "outputs": [],
   "source": [
    "# Sample a random example from the training data\n",
    "sampler = RandomSampler(num_samples=1, task=classification_task)\n",
    "sampler.select_examples()"
   ]
  },
  {
   "cell_type": "code",
   "execution_count": null,
   "id": "d28950e6-bb79-4b40-a6d8-b1d3e45441c1",
   "metadata": {},
   "outputs": [],
   "source": [
    "# Assemble the prompt using the template\n",
    "base_prompt = Prompt(template=template)\n",
    "base_prompt.assemble_prompt()\n",
    "print(base_prompt.prompt)\n"
   ]
  },
  {
   "cell_type": "code",
   "execution_count": null,
   "id": "48c3c782-76c7-4590-a9f7-59f768bcfdbe",
   "metadata": {},
   "outputs": [],
   "source": [
    "# See performance on gpt3 turbo without any grid search\n",
    "acc, results = Accuracy(classification_task).compute(base_prompt,\n",
    "                                                     OllamaLocal(model_name='llama3'),\n",
    "                                                     test=True)\n",
    "print(acc)\n",
    "print(pd.DataFrame(results))"
   ]
  },
  {
   "cell_type": "code",
   "execution_count": null,
   "id": "526c7a2e-f106-470f-82ea-14603fd77caa",
   "metadata": {},
   "outputs": [],
   "source": [
    "# Initialize a grid search on the current prompt\n",
    "grid_search = GridSearch(prompt=base_prompt)\n",
    "random_4_shot = RandomSampler(num_samples=4, task=classification_task)\n",
    "random_15_shot = RandomSampler(num_samples=15, task=classification_task)\n",
    "diverse_15_shot = DiverseSampler(num_samples=15, task=classification_task)\n",
    "stratify_15_shot = StratifiedSampler(num_samples=1, task=classification_task)\n"
   ]
  },
  {
   "cell_type": "code",
   "execution_count": null,
   "id": "32b09d8f-a127-4ee9-a1f6-cf6afffe62b9",
   "metadata": {},
   "outputs": [],
   "source": [
    "param_grid = {\n",
    "    'sampler': [random_4_shot, random_15_shot,diverse_15_shot,stratify_15_shot],\n",
    "    'template': [MarkdownTemplate, XmlTemplate],\n",
    "    'adapter': [OllamaLocal(model_name='llama3')]#, Anthropic(model_name=\"claude-3-haiku-20240307\"), OpenAI(model_name='gpt-4o')]\n",
    "}"
   ]
  },
  {
   "cell_type": "code",
   "execution_count": null,
   "id": "1ca4b10b-cc66-41ff-bc7d-aca9c3e76f56",
   "metadata": {},
   "outputs": [],
   "source": [
    "# Perform grid search to find the best parameters\n",
    "best_params, all_results = grid_search.search(param_grid)\n",
    "print(pd.DataFrame(all_results))"
   ]
  },
  {
   "cell_type": "code",
   "execution_count": null,
   "id": "a4d837f4-b7b4-495d-886f-070e21510e01",
   "metadata": {},
   "outputs": [],
   "source": [
    "# Evaluate the best model\n",
    "template = MarkdownTemplate(task=classification_task)\n",
    "sampler = StratifiedSampler(num_samples=1, task=classification_task)\n",
    "sampler.select_examples()\n",
    "\n",
    "best_prompt = Prompt(template=template)\n",
    "best_prompt.assemble_prompt()"
   ]
  },
  {
   "cell_type": "code",
   "execution_count": null,
   "id": "6cd2f8f2",
   "metadata": {},
   "outputs": [],
   "source": [
    "print(best_prompt.prompt)"
   ]
  },
  {
   "cell_type": "code",
   "execution_count": null,
   "id": "fcf6b368-964f-4ef2-bda9-0dd52edde449",
   "metadata": {},
   "outputs": [],
   "source": [
    "acc, results = Accuracy(classification_task).compute(best_prompt,\n",
    "                                                     OllamaLocal(model_name = \"llama3\"),\n",
    "                                                     test=True)\n",
    "print(acc)\n",
    "print(pd.DataFrame(results))"
   ]
  },
  {
   "cell_type": "code",
   "execution_count": null,
   "id": "c56b273a",
   "metadata": {},
   "outputs": [],
   "source": [
    "best_prompt.add_inference(\"Paid the same thing twice return one please\")\n",
    "\n",
    "Anthropic().llm.invoke(best_prompt.prompt)"
   ]
  },
  {
   "cell_type": "code",
   "execution_count": null,
   "id": "11ba46fd",
   "metadata": {},
   "outputs": [],
   "source": []
  }
 ],
 "metadata": {
  "kernelspec": {
   "display_name": "Python 3 (ipykernel)",
   "language": "python",
   "name": "python3"
  },
  "language_info": {
   "codemirror_mode": {
    "name": "ipython",
    "version": 3
   },
   "file_extension": ".py",
   "mimetype": "text/x-python",
   "name": "python",
   "nbconvert_exporter": "python",
   "pygments_lexer": "ipython3",
   "version": "3.11.4"
  }
 },
 "nbformat": 4,
 "nbformat_minor": 5
}
