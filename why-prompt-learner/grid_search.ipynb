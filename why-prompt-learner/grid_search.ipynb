{
 "cells": [
  {
   "cell_type": "code",
   "execution_count": null,
   "id": "56f0994b-9841-4dbb-bee5-e0c28ab4d9e2",
   "metadata": {},
   "outputs": [],
   "source": [
    "pip install prompt-learner --upgrade"
   ]
  },
  {
   "cell_type": "code",
   "execution_count": 1,
   "id": "30c2375a-6858-4121-99ed-43f8cf7ab77c",
   "metadata": {},
   "outputs": [],
   "source": [
    "from prompt_learner.tasks.classification import ClassificationTask\n",
    "from prompt_learner.examples.example import Example\n",
    "from prompt_learner.selectors.random_sampler import RandomSampler\n",
    "from prompt_learner.selectors.diverse_sampler import DiverseSampler\n",
    "from prompt_learner.selectors.stratified_sampler import StratifiedSampler\n",
    "from prompt_learner.prompts.prompt import Prompt\n",
    "from prompt_learner.templates.markdown import MarkdownTemplate\n",
    "from prompt_learner.templates.xml import XmlTemplate\n",
    "from prompt_learner.adapters.ollama_local import OllamaLocal\n",
    "from prompt_learner.adapters.anthropic import Anthropic\n",
    "from prompt_learner.adapters.llama import Llama\n",
    "from prompt_learner.adapters.openai import OpenAI\n",
    "from prompt_learner.evals.metrics.accuracy import Accuracy\n",
    "from prompt_learner.optimizers.grid_search import GridSearch\n",
    "import pandas as pd"
   ]
  },
  {
   "cell_type": "code",
   "execution_count": 2,
   "id": "befc522f-6f8d-40dd-ac6b-dcb54eedb742",
   "metadata": {},
   "outputs": [],
   "source": [
    "# Task description and allowed labels\n",
    "TASK_DESCRIPTION = \"You have to classify intent for customer messages sent to chatbot.\"\n",
    "ALLOWED_LABELS = ['INFO_ADD_REMOVE_VEHICLE', 'INFO_LOGIN_ERROR',\n",
    "       'INFO_ADD_REMOVE_INSURED', 'INFO_ERS', 'INFO_CAREERS',\n",
    "       'INFO_DIFFERENT_AMTS', 'INFO_SPEAK_TO_REP', 'INFO_CANCEL_INS_POLICY',\n",
    "       'INFO_UPDATE_LIENHOLDER', 'INFO_DELETE_DUPE_PYMT',\n",
    "       'INFO_CANT_SEE_FARM_RANCH_POLICY', 'INFO_AUTO_INS_CANADA',\n",
    "       'INFO_DEC_PAGE_NEEDED', 'INFO_LIFE_BENEFICIARY_CHANGE',\n",
    "       'INFO_MAKE_PYMT']"
   ]
  },
  {
   "cell_type": "code",
   "execution_count": 3,
   "id": "881a9b03-1bf6-49cd-b401-63b26b5c7fba",
   "metadata": {},
   "outputs": [],
   "source": [
    "classification_task = ClassificationTask(description=TASK_DESCRIPTION,\n",
    "                                         allowed_labels=ALLOWED_LABELS)\n",
    "\n",
    "# Template for the task\n",
    "template = MarkdownTemplate(task=classification_task)\n"
   ]
  },
  {
   "cell_type": "code",
   "execution_count": 4,
   "id": "3983d406-a8a9-43a2-9b73-1908024627e3",
   "metadata": {},
   "outputs": [],
   "source": [
    "# Load training data\n",
    "with open(\"train.csv\") as f:\n",
    "    for line in f:\n",
    "        text, label = line.split(\",\")\n",
    "        classification_task.add_example(Example(text=text.strip(), label=label.strip()))\n",
    "#Add test examples\n",
    "with open(\"test.csv\") as f:\n",
    "    for line in f:\n",
    "        text, label = line.split(\",\")\n",
    "        classification_task.add_example(Example(text=text.strip(),\n",
    "                                                label=label.strip()),\n",
    "                                                test=True)"
   ]
  },
  {
   "cell_type": "code",
   "execution_count": 5,
   "id": "1874edbf",
   "metadata": {},
   "outputs": [
    {
     "data": {
      "text/plain": [
       "RandomSampler(num_samples=1)"
      ]
     },
     "execution_count": 5,
     "metadata": {},
     "output_type": "execute_result"
    }
   ],
   "source": [
    "# Sample a random example from the training data\n",
    "sampler = RandomSampler(num_samples=1, task=classification_task)\n",
    "sampler.select_examples()"
   ]
  },
  {
   "cell_type": "code",
   "execution_count": 6,
   "id": "d28950e6-bb79-4b40-a6d8-b1d3e45441c1",
   "metadata": {},
   "outputs": [
    {
     "name": "stdout",
     "output_type": "stream",
     "text": [
      "You are a helpful AI assistant.  \n",
      "You are helping a user with a Classification task.  \n",
      "The user gives you the following task description.  \n",
      "### Task Description:  \n",
      "You have to classify intent for customer messages sent to chatbot.\n",
      "You have to select from the following labels.  \n",
      "### Allowed Labels:  \n",
      "['INFO_ADD_REMOVE_VEHICLE', 'INFO_LOGIN_ERROR', 'INFO_ADD_REMOVE_INSURED', 'INFO_ERS', 'INFO_CAREERS', 'INFO_DIFFERENT_AMTS', 'INFO_SPEAK_TO_REP', 'INFO_CANCEL_INS_POLICY', 'INFO_UPDATE_LIENHOLDER', 'INFO_DELETE_DUPE_PYMT', 'INFO_CANT_SEE_FARM_RANCH_POLICY', 'INFO_AUTO_INS_CANADA', 'INFO_DEC_PAGE_NEEDED', 'INFO_LIFE_BENEFICIARY_CHANGE', 'INFO_MAKE_PYMT'].  \n",
      "Only output labels and nothing else.\n",
      "Here are a few examples to help you understand the task better.  \n",
      "### Examples\n",
      "\n",
      "        -text: Do I have a seperate page for my farm account  \n",
      "-label: INFO_CANT_SEE_FARM_RANCH_POLICY  \n",
      "\n"
     ]
    }
   ],
   "source": [
    "# Assemble the prompt using the template\n",
    "base_prompt = Prompt(template=template)\n",
    "base_prompt.assemble_prompt()\n",
    "print(base_prompt.prompt)\n"
   ]
  },
  {
   "cell_type": "code",
   "execution_count": 7,
   "id": "48c3c782-76c7-4590-a9f7-59f768bcfdbe",
   "metadata": {},
   "outputs": [
    {
     "name": "stdout",
     "output_type": "stream",
     "text": [
      "0.8863636363636364\n",
      "                                                    0  \\\n",
      "0   do i save money if i remove a driver from my i...   \n",
      "1   Who else can be added in my auto Policy if at ...   \n",
      "2                   my son will now also drive my car   \n",
      "3   I need to add a vehicle on my insurance and ha...   \n",
      "4      Can I add another car to the current insurance   \n",
      "5   I traded my kia and got a new car How do I add...   \n",
      "6   Is my car covered through my policy if I visit...   \n",
      "7   Do I need to upgrade my insurance to drive in ...   \n",
      "8            If I travel to Canada am I still covered   \n",
      "9   Is there any specific section in the website t...   \n",
      "10  Can you cancel my policies or do I need to cal...   \n",
      "11                          Cancel all of my poilcies   \n",
      "12  what do i do if my farm insurance policy not s...   \n",
      "13          In my list of accounts I dont see my farm   \n",
      "14  Where can I find a list of open positions to a...   \n",
      "15                    Tell me what jobs are available   \n",
      "16                      Do you have any work openings   \n",
      "17  can you get me a copy of my insurance declarat...   \n",
      "18             I need a copy of my insurance dec page   \n",
      "19  I need a copy of my declarations page emailed ...   \n",
      "20  There has been a duplicate payment made Please...   \n",
      "21                 Need to cancel a duplicate payment   \n",
      "22        Paid the same thing twice return one please   \n",
      "23             why is the amount on my bill different   \n",
      "24                 why are you charging me more money   \n",
      "25                         the amount due has changed   \n",
      "26  how to take up my policy into my emergency roa...   \n",
      "27                                 what is ers policy   \n",
      "28   Let me know if I have emergency roadside service   \n",
      "29       Want to change my life insurance beneficiary   \n",
      "30  My life insurance beneficiary will need to be ...   \n",
      "31  Changing percentages of my current life insura...   \n",
      "32  Good morning Abby Im trying to set up an onlin...   \n",
      "33                 It says error when I try to log in   \n",
      "34  I just spent  min talking to one your people a...   \n",
      "35                                need to pay my bill   \n",
      "36              What methods can I use to pay my bill   \n",
      "37                                options for payment   \n",
      "38                      i need a rep in person please   \n",
      "39                             Where can I find a rep   \n",
      "40     I need to get a response from a representative   \n",
      "41               Add a leinholder to my policy please   \n",
      "42  I need to change my policy It has to do with t...   \n",
      "43      How do I remove the lienholder from my policy   \n",
      "\n",
      "                                  1                                2  \n",
      "0           INFO_ADD_REMOVE_INSURED          INFO_ADD_REMOVE_INSURED  \n",
      "1           INFO_ADD_REMOVE_INSURED             INFO_AUTO_INS_CANADA  \n",
      "2           INFO_ADD_REMOVE_INSURED          INFO_ADD_REMOVE_VEHICLE  \n",
      "3           INFO_ADD_REMOVE_VEHICLE          INFO_ADD_REMOVE_VEHICLE  \n",
      "4           INFO_ADD_REMOVE_VEHICLE          INFO_ADD_REMOVE_VEHICLE  \n",
      "5           INFO_ADD_REMOVE_VEHICLE          INFO_ADD_REMOVE_VEHICLE  \n",
      "6              INFO_AUTO_INS_CANADA             INFO_AUTO_INS_CANADA  \n",
      "7              INFO_AUTO_INS_CANADA             INFO_AUTO_INS_CANADA  \n",
      "8              INFO_AUTO_INS_CANADA             INFO_AUTO_INS_CANADA  \n",
      "9            INFO_CANCEL_INS_POLICY           INFO_CANCEL_INS_POLICY  \n",
      "10           INFO_CANCEL_INS_POLICY           INFO_CANCEL_INS_POLICY  \n",
      "11           INFO_CANCEL_INS_POLICY           INFO_CANCEL_INS_POLICY  \n",
      "12  INFO_CANT_SEE_FARM_RANCH_POLICY  INFO_CANT_SEE_FARM_RANCH_POLICY  \n",
      "13  INFO_CANT_SEE_FARM_RANCH_POLICY  INFO_CANT_SEE_FARM_RANCH_POLICY  \n",
      "14                     INFO_CAREERS                     INFO_CAREERS  \n",
      "15                     INFO_CAREERS                     INFO_CAREERS  \n",
      "16                     INFO_CAREERS                     INFO_CAREERS  \n",
      "17             INFO_DEC_PAGE_NEEDED             INFO_DEC_PAGE_NEEDED  \n",
      "18             INFO_DEC_PAGE_NEEDED             INFO_DEC_PAGE_NEEDED  \n",
      "19             INFO_DEC_PAGE_NEEDED             INFO_DEC_PAGE_NEEDED  \n",
      "20            INFO_DELETE_DUPE_PYMT            INFO_DELETE_DUPE_PYMT  \n",
      "21            INFO_DELETE_DUPE_PYMT            INFO_DELETE_DUPE_PYMT  \n",
      "22            INFO_DELETE_DUPE_PYMT            INFO_DELETE_DUPE_PYMT  \n",
      "23              INFO_DIFFERENT_AMTS              INFO_DIFFERENT_AMTS  \n",
      "24              INFO_DIFFERENT_AMTS              INFO_DIFFERENT_AMTS  \n",
      "25              INFO_DIFFERENT_AMTS              INFO_DIFFERENT_AMTS  \n",
      "26                         INFO_ERS                INFO_SPEAK_TO_REP  \n",
      "27                         INFO_ERS                         INFO_ERS  \n",
      "28                         INFO_ERS                INFO_SPEAK_TO_REP  \n",
      "29     INFO_LIFE_BENEFICIARY_CHANGE     INFO_LIFE_BENEFICIARY_CHANGE  \n",
      "30     INFO_LIFE_BENEFICIARY_CHANGE     INFO_LIFE_BENEFICIARY_CHANGE  \n",
      "31     INFO_LIFE_BENEFICIARY_CHANGE     INFO_LIFE_BENEFICIARY_CHANGE  \n",
      "32                 INFO_LOGIN_ERROR                 INFO_LOGIN_ERROR  \n",
      "33                 INFO_LOGIN_ERROR                 INFO_LOGIN_ERROR  \n",
      "34                 INFO_LOGIN_ERROR                 INFO_LOGIN_ERROR  \n",
      "35                   INFO_MAKE_PYMT                   INFO_MAKE_PYMT  \n",
      "36                   INFO_MAKE_PYMT                   INFO_MAKE_PYMT  \n",
      "37                   INFO_MAKE_PYMT                   INFO_MAKE_PYMT  \n",
      "38                INFO_SPEAK_TO_REP                INFO_SPEAK_TO_REP  \n",
      "39                INFO_SPEAK_TO_REP                INFO_SPEAK_TO_REP  \n",
      "40                INFO_SPEAK_TO_REP                INFO_SPEAK_TO_REP  \n",
      "41           INFO_UPDATE_LIENHOLDER           INFO_UPDATE_LIENHOLDER  \n",
      "42           INFO_UPDATE_LIENHOLDER           INFO_UPDATE_LIENHOLDER  \n",
      "43           INFO_UPDATE_LIENHOLDER           INFO_CANCEL_INS_POLICY  \n"
     ]
    }
   ],
   "source": [
    "# See performance on gpt3 turbo without any grid search\n",
    "acc, results = Accuracy(classification_task).compute(base_prompt,\n",
    "                                                     OllamaLocal(model_name='llama3'),\n",
    "                                                     test=True)\n",
    "print(acc)\n",
    "print(pd.DataFrame(results))"
   ]
  },
  {
   "cell_type": "code",
   "execution_count": 8,
   "id": "526c7a2e-f106-470f-82ea-14603fd77caa",
   "metadata": {},
   "outputs": [],
   "source": [
    "# Initialize a grid search on the current prompt\n",
    "grid_search = GridSearch(prompt=base_prompt)\n",
    "random_4_shot = RandomSampler(num_samples=4, task=classification_task)\n",
    "random_15_shot = RandomSampler(num_samples=15, task=classification_task)\n",
    "diverse_15_shot = DiverseSampler(num_samples=15, task=classification_task)\n",
    "stratify_15_shot = StratifiedSampler(num_samples=1, task=classification_task)\n"
   ]
  },
  {
   "cell_type": "code",
   "execution_count": 10,
   "id": "32b09d8f-a127-4ee9-a1f6-cf6afffe62b9",
   "metadata": {},
   "outputs": [],
   "source": [
    "param_grid = {\n",
    "    'sampler': [random_4_shot, random_15_shot,diverse_15_shot,stratify_15_shot],\n",
    "    'template': [MarkdownTemplate],#, XmlTemplate],\n",
    "    'adapter': [OllamaLocal(model_name='llama3')]#, Anthropic(model_name=\"claude-3-haiku-20240307\"), OpenAI(model_name='gpt-4o')]\n",
    "}"
   ]
  },
  {
   "cell_type": "code",
   "execution_count": 11,
   "id": "1ca4b10b-cc66-41ff-bc7d-aca9c3e76f56",
   "metadata": {},
   "outputs": [
    {
     "name": "stderr",
     "output_type": "stream",
     "text": [
      "Grid Search Progress: 100%|██████████| 4/4 [01:11<00:00, 17.99s/it]"
     ]
    },
    {
     "name": "stdout",
     "output_type": "stream",
     "text": [
      "      score                                            sampler  \\\n",
      "0  0.895349                       RandomSampler(num_samples=4)   \n",
      "1  0.906667                      RandomSampler(num_samples=15)   \n",
      "2  0.853333                     DiverseSampler(num_samples=15)   \n",
      "3  0.973333  StratifiedSampler(task=description='You have t...   \n",
      "\n",
      "           template                            adapter  \n",
      "0  MarkdownTemplate  Ollama Adapter(model_name=llama3)  \n",
      "1  MarkdownTemplate  Ollama Adapter(model_name=llama3)  \n",
      "2  MarkdownTemplate  Ollama Adapter(model_name=llama3)  \n",
      "3  MarkdownTemplate  Ollama Adapter(model_name=llama3)  \n"
     ]
    },
    {
     "name": "stderr",
     "output_type": "stream",
     "text": [
      "\n"
     ]
    }
   ],
   "source": [
    "# Perform grid search to find the best parameters\n",
    "best_params, all_results = grid_search.search(param_grid)\n",
    "print(pd.DataFrame(all_results))"
   ]
  },
  {
   "cell_type": "code",
   "execution_count": 12,
   "id": "a4d837f4-b7b4-495d-886f-070e21510e01",
   "metadata": {},
   "outputs": [],
   "source": [
    "# Evaluate the best model\n",
    "template = MarkdownTemplate(task=classification_task)\n",
    "sampler = StratifiedSampler(num_samples=1, task=classification_task)\n",
    "sampler.select_examples()\n",
    "\n",
    "best_prompt = Prompt(template=template)\n",
    "best_prompt.assemble_prompt()"
   ]
  },
  {
   "cell_type": "code",
   "execution_count": 13,
   "id": "6cd2f8f2",
   "metadata": {},
   "outputs": [
    {
     "name": "stdout",
     "output_type": "stream",
     "text": [
      "You are a helpful AI assistant.  \n",
      "You are helping a user with a Classification task.  \n",
      "The user gives you the following task description.  \n",
      "### Task Description:  \n",
      "You have to classify intent for customer messages sent to chatbot.\n",
      "You have to select from the following labels.  \n",
      "### Allowed Labels:  \n",
      "['INFO_ADD_REMOVE_VEHICLE', 'INFO_LOGIN_ERROR', 'INFO_ADD_REMOVE_INSURED', 'INFO_ERS', 'INFO_CAREERS', 'INFO_DIFFERENT_AMTS', 'INFO_SPEAK_TO_REP', 'INFO_CANCEL_INS_POLICY', 'INFO_UPDATE_LIENHOLDER', 'INFO_DELETE_DUPE_PYMT', 'INFO_CANT_SEE_FARM_RANCH_POLICY', 'INFO_AUTO_INS_CANADA', 'INFO_DEC_PAGE_NEEDED', 'INFO_LIFE_BENEFICIARY_CHANGE', 'INFO_MAKE_PYMT'].  \n",
      "Only output labels and nothing else.\n",
      "Here are a few examples to help you understand the task better.  \n",
      "### Examples\n",
      "\n",
      "        -text: Id like to switch the car that is on my insurance with a new one  \n",
      "-label: INFO_ADD_REMOVE_VEHICLE  \n",
      "-text: I cant log in and I keep getting shown an error  \n",
      "-label: INFO_LOGIN_ERROR  \n",
      "-text: How would I remove a driver from my insurance policy  \n",
      "-label: INFO_ADD_REMOVE_INSURED  \n",
      "-text: Does my current policy include roadside assistance  \n",
      "-label: INFO_ERS  \n",
      "-text: Where can I work  \n",
      "-label: INFO_CAREERS  \n",
      "-text: For what reason is my bill different from before  \n",
      "-label: INFO_DIFFERENT_AMTS  \n",
      "-text: Do you have any representatives  \n",
      "-label: INFO_SPEAK_TO_REP  \n",
      "-text: Cancel all of my poilcies  \n",
      "-label: INFO_CANCEL_INS_POLICY  \n",
      "-text: How to update lienholder  \n",
      "-label: INFO_UPDATE_LIENHOLDER  \n",
      "-text: Paid the same thing twice return one please  \n",
      "-label: INFO_DELETE_DUPE_PYMT  \n",
      "-text: In my list of accounts I dont see my farm  \n",
      "-label: INFO_CANT_SEE_FARM_RANCH_POLICY  \n",
      "-text: if i go to canada will my car insurance cover me  \n",
      "-label: INFO_AUTO_INS_CANADA  \n",
      "-text: I need a copy of my insurance dec page  \n",
      "-label: INFO_DEC_PAGE_NEEDED  \n",
      "-text: How to change beneficiary of my life insurance policy  \n",
      "-label: INFO_LIFE_BENEFICIARY_CHANGE  \n",
      "-text: need to pay my bill  \n",
      "-label: INFO_MAKE_PYMT  \n",
      "\n"
     ]
    }
   ],
   "source": [
    "print(best_prompt.prompt)"
   ]
  },
  {
   "cell_type": "code",
   "execution_count": 14,
   "id": "fcf6b368-964f-4ef2-bda9-0dd52edde449",
   "metadata": {},
   "outputs": [
    {
     "name": "stdout",
     "output_type": "stream",
     "text": [
      "0.95\n",
      "                                                    0  \\\n",
      "0   do i save money if i remove a driver from my i...   \n",
      "1   Who else can be added in my auto Policy if at ...   \n",
      "2                   my son will now also drive my car   \n",
      "3   I need to add a vehicle on my insurance and ha...   \n",
      "4      Can I add another car to the current insurance   \n",
      "5   I traded my kia and got a new car How do I add...   \n",
      "6   Is my car covered through my policy if I visit...   \n",
      "7   Do I need to upgrade my insurance to drive in ...   \n",
      "8            If I travel to Canada am I still covered   \n",
      "9   Is there any specific section in the website t...   \n",
      "10  Can you cancel my policies or do I need to cal...   \n",
      "11  what do i do if my farm insurance policy not s...   \n",
      "12      Do I have a seperate page for my farm account   \n",
      "13  Where can I find a list of open positions to a...   \n",
      "14                    Tell me what jobs are available   \n",
      "15                      Do you have any work openings   \n",
      "16  can you get me a copy of my insurance declarat...   \n",
      "17  I need a copy of my declarations page emailed ...   \n",
      "18  There has been a duplicate payment made Please...   \n",
      "19                 Need to cancel a duplicate payment   \n",
      "20             why is the amount on my bill different   \n",
      "21                 why are you charging me more money   \n",
      "22                         the amount due has changed   \n",
      "23  how to take up my policy into my emergency roa...   \n",
      "24                                 what is ers policy   \n",
      "25   Let me know if I have emergency roadside service   \n",
      "26       Want to change my life insurance beneficiary   \n",
      "27  My life insurance beneficiary will need to be ...   \n",
      "28  Changing percentages of my current life insura...   \n",
      "29  Good morning Abby Im trying to set up an onlin...   \n",
      "30                 It says error when I try to log in   \n",
      "31  I just spent  min talking to one your people a...   \n",
      "32              What methods can I use to pay my bill   \n",
      "33                                options for payment   \n",
      "34                      i need a rep in person please   \n",
      "35                             Where can I find a rep   \n",
      "36     I need to get a response from a representative   \n",
      "37               Add a leinholder to my policy please   \n",
      "38  I need to change my policy It has to do with t...   \n",
      "39      How do I remove the lienholder from my policy   \n",
      "\n",
      "                                  1                                2  \n",
      "0           INFO_ADD_REMOVE_INSURED          INFO_ADD_REMOVE_INSURED  \n",
      "1           INFO_ADD_REMOVE_INSURED          INFO_ADD_REMOVE_VEHICLE  \n",
      "2           INFO_ADD_REMOVE_INSURED          INFO_ADD_REMOVE_VEHICLE  \n",
      "3           INFO_ADD_REMOVE_VEHICLE          INFO_ADD_REMOVE_VEHICLE  \n",
      "4           INFO_ADD_REMOVE_VEHICLE          INFO_ADD_REMOVE_VEHICLE  \n",
      "5           INFO_ADD_REMOVE_VEHICLE          INFO_ADD_REMOVE_VEHICLE  \n",
      "6              INFO_AUTO_INS_CANADA             INFO_AUTO_INS_CANADA  \n",
      "7              INFO_AUTO_INS_CANADA             INFO_AUTO_INS_CANADA  \n",
      "8              INFO_AUTO_INS_CANADA             INFO_AUTO_INS_CANADA  \n",
      "9            INFO_CANCEL_INS_POLICY           INFO_CANCEL_INS_POLICY  \n",
      "10           INFO_CANCEL_INS_POLICY           INFO_CANCEL_INS_POLICY  \n",
      "11  INFO_CANT_SEE_FARM_RANCH_POLICY  INFO_CANT_SEE_FARM_RANCH_POLICY  \n",
      "12  INFO_CANT_SEE_FARM_RANCH_POLICY  INFO_CANT_SEE_FARM_RANCH_POLICY  \n",
      "13                     INFO_CAREERS                     INFO_CAREERS  \n",
      "14                     INFO_CAREERS                     INFO_CAREERS  \n",
      "15                     INFO_CAREERS                     INFO_CAREERS  \n",
      "16             INFO_DEC_PAGE_NEEDED             INFO_DEC_PAGE_NEEDED  \n",
      "17             INFO_DEC_PAGE_NEEDED             INFO_DEC_PAGE_NEEDED  \n",
      "18            INFO_DELETE_DUPE_PYMT            INFO_DELETE_DUPE_PYMT  \n",
      "19            INFO_DELETE_DUPE_PYMT            INFO_DELETE_DUPE_PYMT  \n",
      "20              INFO_DIFFERENT_AMTS              INFO_DIFFERENT_AMTS  \n",
      "21              INFO_DIFFERENT_AMTS              INFO_DIFFERENT_AMTS  \n",
      "22              INFO_DIFFERENT_AMTS              INFO_DIFFERENT_AMTS  \n",
      "23                         INFO_ERS                         INFO_ERS  \n",
      "24                         INFO_ERS                         INFO_ERS  \n",
      "25                         INFO_ERS                         INFO_ERS  \n",
      "26     INFO_LIFE_BENEFICIARY_CHANGE     INFO_LIFE_BENEFICIARY_CHANGE  \n",
      "27     INFO_LIFE_BENEFICIARY_CHANGE     INFO_LIFE_BENEFICIARY_CHANGE  \n",
      "28     INFO_LIFE_BENEFICIARY_CHANGE     INFO_LIFE_BENEFICIARY_CHANGE  \n",
      "29                 INFO_LOGIN_ERROR                 INFO_LOGIN_ERROR  \n",
      "30                 INFO_LOGIN_ERROR                 INFO_LOGIN_ERROR  \n",
      "31                 INFO_LOGIN_ERROR                 INFO_LOGIN_ERROR  \n",
      "32                   INFO_MAKE_PYMT                   INFO_MAKE_PYMT  \n",
      "33                   INFO_MAKE_PYMT                   INFO_MAKE_PYMT  \n",
      "34                INFO_SPEAK_TO_REP                INFO_SPEAK_TO_REP  \n",
      "35                INFO_SPEAK_TO_REP                INFO_SPEAK_TO_REP  \n",
      "36                INFO_SPEAK_TO_REP                INFO_SPEAK_TO_REP  \n",
      "37           INFO_UPDATE_LIENHOLDER           INFO_UPDATE_LIENHOLDER  \n",
      "38           INFO_UPDATE_LIENHOLDER           INFO_UPDATE_LIENHOLDER  \n",
      "39           INFO_UPDATE_LIENHOLDER           INFO_UPDATE_LIENHOLDER  \n"
     ]
    }
   ],
   "source": [
    "acc, results = Accuracy(classification_task).compute(best_prompt,\n",
    "                                                     OllamaLocal(model_name = \"llama3\"),\n",
    "                                                     test=True)\n",
    "print(acc)\n",
    "print(pd.DataFrame(results))"
   ]
  }
 ],
 "metadata": {
  "kernelspec": {
   "display_name": "Python 3 (ipykernel)",
   "language": "python",
   "name": "python3"
  },
  "language_info": {
   "codemirror_mode": {
    "name": "ipython",
    "version": 3
   },
   "file_extension": ".py",
   "mimetype": "text/x-python",
   "name": "python",
   "nbconvert_exporter": "python",
   "pygments_lexer": "ipython3",
   "version": "3.11.4"
  }
 },
 "nbformat": 4,
 "nbformat_minor": 5
}
